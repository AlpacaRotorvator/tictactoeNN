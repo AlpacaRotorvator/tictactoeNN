{
 "cells": [
  {
   "cell_type": "code",
   "execution_count": 1,
   "metadata": {
    "collapsed": true
   },
   "outputs": [],
   "source": [
    "import numpy as np\n",
    "import matplotlib.pyplot as plt\n",
    "\n",
    "from scipy.optimize import differential_evolution"
   ]
  },
  {
   "cell_type": "markdown",
   "metadata": {},
   "source": [
    "Tic-Tac-Toe is a fairly easy to implement game. It's also fairly easy to play, which makes it a lot simpler to set up an AI capable of making plays(not necessarily good ones).\n",
    "\n",
    "Here's the game itself:"
   ]
  },
  {
   "cell_type": "code",
   "execution_count": 2,
   "metadata": {
    "collapsed": true
   },
   "outputs": [],
   "source": [
    "class Tttgame:\n",
    "    def __init__(self, size):\n",
    "        self.size = size\n",
    "        self.board = np.zeros((self.size, self.size))\n",
    "        self.curPlayer = -1\n",
    "        \n",
    "    def isValidMove(self, coords):\n",
    "        if self.board[coords] == 0:\n",
    "            return True\n",
    "        else:\n",
    "            return False\n",
    "        \n",
    "    def play(self, coords):\n",
    "        if self.isValidMove(coords):\n",
    "            self.board[coords] = self.curPlayer\n",
    "            self.curPlayer *= -1\n",
    "            return 1\n",
    "        return 0\n",
    "    \n",
    "    #This is ugly, I know\n",
    "    #Returns the number corresponding to a player if he's the winner,\n",
    "    #zero if there's no winner yet, or two if there's neither a winner\n",
    "    #nor free slots to play in, ie. a tie(it can't tell in advance)\n",
    "    def checkWinner(self):\n",
    "        for i in self.board.sum(axis=0):\n",
    "            if int(i/self.size) != 0:\n",
    "                return int(i/self.size)\n",
    "        for i in self.board.sum(axis=1):\n",
    "            if int(i/self.size) != 0:\n",
    "                return int(i/self.size)\n",
    "        i = self.board.trace()\n",
    "        if int(i/self.size) != 0:\n",
    "            return int(i/self.size)\n",
    "        i = self.board[::-1].trace()\n",
    "        if int(i/self.size) != 0:\n",
    "            return int(i/self.size)\n",
    "        if self.board[self.board == 0].size == 0:\n",
    "            return 2\n",
    "        return 0\n",
    "    \n",
    "    #I'll prettify this, one day\n",
    "    def printBoard(self):\n",
    "        print(self.board)     "
   ]
  },
  {
   "cell_type": "markdown",
   "metadata": {},
   "source": [
    "And an AI that simply chooses valid moves at random:"
   ]
  },
  {
   "cell_type": "code",
   "execution_count": 3,
   "metadata": {
    "collapsed": true
   },
   "outputs": [],
   "source": [
    "class RandomPlayer:\n",
    "    def __init__(self, gameInstance):\n",
    "        self.size = gameInstance.size\n",
    "        self.instance = gameInstance\n",
    "        \n",
    "    def play(self):\n",
    "        empty = np.where(self.instance.board == 0)\n",
    "        randn = np.random.randint(0, empty[0].size)\n",
    "        coords = tuple([empty[0][randn], empty[1][randn]])\n",
    "        self.instance.play(coords)"
   ]
  },
  {
   "cell_type": "markdown",
   "metadata": {},
   "source": [
    "And finally a single hidden layer neural network player:"
   ]
  },
  {
   "cell_type": "code",
   "execution_count": 83,
   "metadata": {
    "collapsed": true
   },
   "outputs": [],
   "source": [
    "class NNPlayer:\n",
    "    def __init__(self, nneurons, gameInstance):\n",
    "        self.instance = gameInstance\n",
    "        self.ninputs = self.instance.size ** 2\n",
    "        self.nneurons = nneurons\n",
    "        self.hiddenLayerWeights = np.random.normal(size=(self.ninputs, self.nneurons))\n",
    "        self.hiddenLayerBias = np.random.normal(size=(1, nneurons))\n",
    "        self.outputLayerWeights = np.random.normal(size=(self.nneurons, 1))\n",
    "        \n",
    "    def attachNewGame(self, gameInstance):\n",
    "        self.instance = gameInstance\n",
    "        \n",
    "    #This rather curious sigmoid is actually tailored for backprop(cf. Lecun, 1998)\n",
    "    #will it work well in this differential evolution-backed problem? No idea.\n",
    "    def sigmoid(self, x):\n",
    "        return 1.7159 * np.tanh(2/3 * x)\n",
    "    \n",
    "    #I set this up rather haphazardly. A little more thought into the dimensions of\n",
    "    #the matrices involved would probably result in cleaner code with less transposes\n",
    "    def runNN(self, input):\n",
    "        return np.dot(self.outputLayerWeights.T, \n",
    "                      self.sigmoid(np.dot(input.T, self.hiddenLayerWeights) + \\\n",
    "                                   self.hiddenLayerBias).T)[0,0]\n",
    "    \n",
    "    #Instead of using 2D coordinates as inputs/outputs I flatten the board into an\n",
    "    #1D array both for simplicity and memory usage concerns.\n",
    "    def evalBoard(self):\n",
    "        ravelBoard = self.instance.board.flatten()\n",
    "        emptyBoard = np.where(ravelBoard == 0)[0]\n",
    "        scores = []\n",
    "        for i in emptyBoard:\n",
    "            ravelBoard[i] = 1\n",
    "            scores.append(self.runNN(ravelBoard))\n",
    "            ravelBoard[i] = 0\n",
    "        scores = np.array(scores)\n",
    "        max_idx = emptyBoard[np.where(scores == scores.max())[0][0]]\n",
    "        res =  np.unravel_index(max_idx, self.instance.board.shape)\n",
    "        return res\n",
    "    \n",
    "    #Who needs exceptions when you can BEEP! instead?\n",
    "    def play(self):\n",
    "        coords = self.evalBoard()\n",
    "        res = self.instance.play(coords)\n",
    "        if res == 0:\n",
    "            print(\"BEEP!\")\n",
    "    \n",
    "    #The cost function here is a weighed average of the results of many\n",
    "    #games against a random player\n",
    "    def cost(self):\n",
    "        costInstance = Tttgame(self.instance.size)\n",
    "        oldInstance = self.instance\n",
    "        wincount = []\n",
    "        N = 25\n",
    "        \n",
    "        for i in range(N):\n",
    "            costInstance = Tttgame(self.instance.size)\n",
    "            rp = RandomPlayer(costInstance)\n",
    "            self.attachNewGame(costInstance)\n",
    "            \n",
    "            while True:\n",
    "                rp.play()\n",
    "                if(costInstance.checkWinner() != 0):\n",
    "                    break\n",
    "                self.play()\n",
    "                if(costInstance.checkWinner() != 0):\n",
    "                    break\n",
    "            wincount.append(costInstance.checkWinner())\n",
    "                \n",
    "        self.attachNewGame(oldInstance)\n",
    "        wincount = np.array(wincount)\n",
    "        wincount[wincount == 2] = 0\n",
    "        count = wincount.sum() / N\n",
    "        return -count\n",
    "    \n",
    "    #Scipy's DE algorithm has very specific constraints on the form of\n",
    "    #the function being minimized. This, absolutely atrocious, wrapper\n",
    "    #bridges the gap between my implementation and what scipy wants\n",
    "    def wrapperDE(self, weights):\n",
    "        innerInstance = Tttgame(self.instance.size)\n",
    "        trainGame = NNPlayer(self.nneurons, innerInstance)\n",
    "        trainGame.importWeightVector(weights)\n",
    "            \n",
    "        return trainGame.cost()\n",
    "    \n",
    "    def importWeightVector(self, weights):\n",
    "        cuts = np.cumsum([self.hiddenLayerWeights.size, \\\n",
    "                          self.hiddenLayerBias.size, \\\n",
    "                          self.outputLayerWeights.size])\n",
    "        self.hiddenLayerWeights = weights[0:cuts[0]].reshape(self.hiddenLayerWeights.shape)\n",
    "        self.hiddenLayerBias = weights[cuts[0]:cuts[1]].reshape(self.hiddenLayerBias.shape)\n",
    "        self.outputLayerWeights = weights[cuts[1] :].reshape(self.outputLayerWeights.shape)\n",
    "    \n",
    "    def trainDE(self):\n",
    "        bounds = np.array([(-1, 1)] * (self.hiddenLayerWeights.size + self.hiddenLayerBias.size + \\\n",
    "                         self.outputLayerWeights.size))\n",
    "        trainResults = differential_evolution(self.wrapperDE, bounds, tol = 0.5)\n",
    "        print(trainResults.message)\n",
    "        \n",
    "        if trainResults.success == True:\n",
    "            self.importWeightVector(trainResults.x)\n",
    "            print(trainResults.nit)\n",
    "            print(trainResults.nfev)\n",
    "            \n",
    "        else:\n",
    "            print(\"Optimization failed somewhere\")\n",
    "    "
   ]
  },
  {
   "cell_type": "markdown",
   "metadata": {},
   "source": [
    "With everything set up let's see how the AI fares against a random player:"
   ]
  },
  {
   "cell_type": "code",
   "execution_count": 94,
   "metadata": {
    "collapsed": true
   },
   "outputs": [],
   "source": [
    "a = Tttgame(3)\n",
    "nnp = NNPlayer(4, a)"
   ]
  },
  {
   "cell_type": "code",
   "execution_count": 95,
   "metadata": {
    "collapsed": true
   },
   "outputs": [],
   "source": [
    "N = 5000\n",
    "wincount = []\n",
    "\n",
    "for i in range(N):\n",
    "    a = Tttgame(3)\n",
    "    nnp.attachNewGame(a)\n",
    "    rp = RandomPlayer(a)\n",
    "    while True:\n",
    "        rp.play()\n",
    "        if(a.checkWinner() != 0):\n",
    "            break\n",
    "        nnp.play()\n",
    "        if(a.checkWinner() != 0):\n",
    "            break\n",
    "    wincount.append(a.checkWinner())"
   ]
  },
  {
   "cell_type": "code",
   "execution_count": 96,
   "metadata": {},
   "outputs": [
    {
     "data": {
      "image/png": "[encoded data removed]",
      "text/plain": [
       "<matplotlib.figure.Figure at 0x7f4b14828ac8>"
      ]
     },
     "metadata": {},
     "output_type": "display_data"
    }
   ],
   "source": [
    "label, count = np.unique(wincount, return_counts=True)\n",
    "label = [\"Random\", \"NN\", \"Tie\"]\n",
    "count = count / N\n",
    "plt.pie(count, labels=label, autopct='%.1f%%')\n",
    "plt.show()"
   ]
  },
  {
   "cell_type": "markdown",
   "metadata": {
    "collapsed": true
   },
   "source": [
    "Not great, huh. Let's train it for a while and see if it does better."
   ]
  },
  {
   "cell_type": "code",
   "execution_count": 97,
   "metadata": {},
   "outputs": [
    {
     "name": "stdout",
     "output_type": "stream",
     "text": [
      "Optimization terminated successfully.\n",
      "17\n",
      "13140\n"
     ]
    }
   ],
   "source": [
    "nnp.trainDE()"
   ]
  },
  {
   "cell_type": "code",
   "execution_count": 98,
   "metadata": {
    "collapsed": true
   },
   "outputs": [],
   "source": [
    "N = 5000\n",
    "wincount = []\n",
    "\n",
    "for i in range(N):\n",
    "    a = Tttgame(3)\n",
    "    nnp.attachNewGame(a)\n",
    "    rp = RandomPlayer(a)\n",
    "    while True:\n",
    "        rp.play()\n",
    "        if(a.checkWinner() != 0):\n",
    "            break\n",
    "        nnp.play()\n",
    "        if(a.checkWinner() != 0):\n",
    "            break\n",
    "    wincount.append(a.checkWinner())"
   ]
  },
  {
   "cell_type": "code",
   "execution_count": 99,
   "metadata": {},
   "outputs": [
    {
     "data": {
      "image/png": "[encoded data removed]",
      "text/plain": [
       "<matplotlib.figure.Figure at 0x7f4b14943710>"
      ]
     },
     "metadata": {},
     "output_type": "display_data"
    }
   ],
   "source": [
    "label, count = np.unique(wincount, return_counts=True)\n",
    "label = [\"Random\", \"NN\", \"Tie\"]\n",
    "count = count / N\n",
    "plt.pie(count, labels=label, autopct='%.1f%%')\n",
    "plt.show()"
   ]
  },
  {
   "cell_type": "code",
   "execution_count": 108,
   "metadata": {
    "collapsed": true
   },
   "outputs": [],
   "source": [
    "trained_vec = np.hstack((nnp.hiddenLayerWeights.ravel(), nnp.hiddenLayerBias.ravel(), nnp.outputLayerWeights.ravel()))"
   ]
  },
  {
   "cell_type": "code",
   "execution_count": 109,
   "metadata": {
    "collapsed": true
   },
   "outputs": [],
   "source": [
    "trained_vec.tofile(\"trainedvec.csv\")"
   ]
  }
 ],
 "metadata": {
  "kernelspec": {
   "display_name": "Python 3",
   "language": "python",
   "name": "python3"
  },
  "language_info": {
   "codemirror_mode": {
    "name": "ipython",
    "version": 3
   },
   "file_extension": ".py",
   "mimetype": "text/x-python",
   "name": "python",
   "nbconvert_exporter": "python",
   "pygments_lexer": "ipython3",
   "version": "3.6.2"
  }
 },
 "nbformat": 4,
 "nbformat_minor": 2
}
