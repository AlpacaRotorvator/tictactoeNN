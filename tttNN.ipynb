{
 "cells": [
  {
   "cell_type": "code",
   "execution_count": 1,
   "metadata": {},
   "outputs": [],
   "source": [
    "import numpy as np\n",
    "import matplotlib.pyplot as plt\n",
    "\n",
    "from scipy.optimize import differential_evolution\n",
    "from functools import reduce"
   ]
  },
  {
   "cell_type": "markdown",
   "metadata": {},
   "source": [
    "Tic-Tac-Toe is a fairly easy to implement game. It's also fairly easy to play, which makes it a lot simpler to set up an AI capable of making valid(not necessarily good) plays.\n",
    "\n",
    "Here's the code for the game itself:"
   ]
  },
  {
   "cell_type": "code",
   "execution_count": 2,
   "metadata": {},
   "outputs": [],
   "source": [
    "class TTTGame:\n",
    "    def __init__(self, size, players):\n",
    "        self.size = size\n",
    "        self.board = np.zeros((self.size, self.size))\n",
    "        self.curPlayer = -1\n",
    "        self.players = players\n",
    "        for i in range(len(self.players)):\n",
    "            #Each player keeps their own internal copy of the board that\n",
    "            #gets updated each turn by the game instance\n",
    "            self.players[i].board = self.board\n",
    "        \n",
    "    def isValidMove(self, coords):\n",
    "        if self.board[coords] == 0:\n",
    "            return True\n",
    "        else:\n",
    "            return False\n",
    "        \n",
    "    def play(self):\n",
    "        curPlayerIdx = (self.curPlayer + 1) // 2\n",
    "        self.players[curPlayerIdx].board = self.board\n",
    "        \n",
    "        coords = self.players[curPlayerIdx].play()\n",
    "        if self.isValidMove(coords):\n",
    "            self.board[coords] = self.curPlayer\n",
    "            self.curPlayer *= -1\n",
    "            return 1\n",
    "        return 0\n",
    "    \n",
    "    #This is ugly, I know\n",
    "    #Returns the number corresponding to a player if he's the winner,\n",
    "    #zero if there's no winner yet, or two if there's neither a winner\n",
    "    #nor free slots to play in, ie. a tie(it can't tell in advance)\n",
    "    def checkWinner(self):\n",
    "        for i in self.board.sum(axis=0):\n",
    "            if int(np.abs(i) // self.size) != 0:\n",
    "                return int(i//self.size)\n",
    "        for i in self.board.sum(axis=1):\n",
    "            if int(np.abs(i) // self.size) != 0:\n",
    "                return int(i//self.size)\n",
    "        i = self.board.trace()\n",
    "        if int(np.abs(i) // self.size) != 0:\n",
    "            return int(i/self.size)\n",
    "        i = self.board[::-1].trace()\n",
    "        if int(np.abs(i) // self.size) != 0:\n",
    "            return int(i/self.size)\n",
    "        if self.board[self.board == 0].size == 0:\n",
    "            return 2\n",
    "        return 0\n",
    "    \n",
    "    def printBoard(self):\n",
    "        boardStr = [*map(lambda row:\n",
    "            [*map(lambda elem:\n",
    "                ({-1: \"O \", 0: \"_ \", 1:\"X \"})[elem]\n",
    "            , row)]\n",
    "        , self.board)]\n",
    "        boardStr = reduce(lambda row, res:\n",
    "            \"\".join(res) + \"\\n\" + \"\".join(row)\n",
    "        , boardStr, \"\")\n",
    "        print(boardStr)\n",
    "        \n",
    "    def reset(self):\n",
    "        self.__init__(self.size, self.players)"
   ]
  },
  {
   "cell_type": "markdown",
   "metadata": {},
   "source": [
    "And an AI that simply chooses valid moves at random:"
   ]
  },
  {
   "cell_type": "code",
   "execution_count": 3,
   "metadata": {},
   "outputs": [],
   "source": [
    "class RandomPlayer:\n",
    "    def __init__(self):\n",
    "        self.board = np.array([])\n",
    "        \n",
    "    def play(self):\n",
    "        empty = np.where(self.board == 0)\n",
    "        randn = np.random.randint(0, empty[0].size)\n",
    "        coords = tuple([empty[0][randn], empty[1][randn]])\n",
    "        return coords"
   ]
  },
  {
   "cell_type": "markdown",
   "metadata": {},
   "source": [
    "And finally a single hidden layer neural network player:"
   ]
  },
  {
   "cell_type": "code",
   "execution_count": 4,
   "metadata": {},
   "outputs": [],
   "source": [
    "class NNPlayer:\n",
    "    #This rather curious default sigmoid is actually tailored for backprop(cf. Lecun, 1998)\n",
    "    #will it work well in this differential evolution-backed problem? No idea.\n",
    "    def __init__(self, nNeurons, sigmoid=lambda x: 1.7159 * np.tanh(2/3 * x)):\n",
    "        self.board = np.array([])\n",
    "        self.nNeurons = nNeurons\n",
    "        self.sigmoid = sigmoid\n",
    "\n",
    "    def initNN(self):\n",
    "        self.nInputs = self.board.size\n",
    "        self.hiddenLayerWeights = np.random.normal(size=(self.nNeurons,self.nInputs))\n",
    "        self.hiddenLayerBias = np.random.normal(size=(self.nNeurons, 1))\n",
    "        self.outputLayerWeights = np.random.normal(size=(1, self.nNeurons))\n",
    "\n",
    "    #I set this up rather haphazard. A little more thought into the dimensions of\n",
    "    #the matrices involved would probably result in cleaner code with less transposes\n",
    "    def runNN(self, nNInput):\n",
    "        return np.dot(self.outputLayerWeights, \n",
    "                      self.sigmoid(np.dot(self.hiddenLayerWeights, nNInput) \n",
    "                                   + self.hiddenLayerBias))[0,0]\n",
    "    \n",
    "    #Instead of using 2D coordinates as inputs/outputs I flatten the board into an\n",
    "    #1D array both for simplicity and memory usage concerns.\n",
    "    def evalBoard(self):\n",
    "        ravelBoard = self.board.flatten()\n",
    "        emptyBoard = np.where(ravelBoard == 0)[0]\n",
    "        scores = []\n",
    "        for i in emptyBoard:\n",
    "            ravelBoard[i] = -1\n",
    "            scores.append(self.runNN(ravelBoard))\n",
    "            ravelBoard[i] = 0\n",
    "        scores = np.array(scores)\n",
    "        max_idx = emptyBoard[np.where(scores == scores.max())[0][0]]\n",
    "        res =  np.unravel_index(max_idx, self.board.shape)\n",
    "        return res\n",
    "\n",
    "    def play(self):\n",
    "        return self.evalBoard()\n",
    "    \n",
    "    def exportWeightVector(self):\n",
    "        return np.hstack((self.hiddenLayerWeights.ravel(), \n",
    "                          self.hiddenLayerBias.ravel(), \n",
    "                          self.outputLayerWeights.ravel()))\n",
    "    \n",
    "    def importWeightVector(self, weights):\n",
    "        #I should really do this based on the actual layer dimensions \n",
    "        #independently of the layers already being set-up or not\n",
    "        cuts = np.cumsum([self.hiddenLayerWeights.size, \\\n",
    "                          self.hiddenLayerBias.size, \\\n",
    "                          self.outputLayerWeights.size])\n",
    "        self.hiddenLayerWeights = weights[0:cuts[0]].reshape(self.hiddenLayerWeights.shape)\n",
    "        self.hiddenLayerBias = weights[cuts[0]:cuts[1]].reshape(self.hiddenLayerBias.shape)\n",
    "        self.outputLayerWeights = weights[cuts[1] :].reshape(self.outputLayerWeights.shape)"
   ]
  },
  {
   "cell_type": "markdown",
   "metadata": {},
   "source": [
    "This helper function clashes two players a certain number of times and keeps track of winrates.\n",
    "\n",
    "It takes a number of games to run and a game instance(NN players must be properly initialized beforehand) as arguments."
   ]
  },
  {
   "cell_type": "code",
   "execution_count": 5,
   "metadata": {},
   "outputs": [],
   "source": [
    "def nGames(Ngames, game):\n",
    "    wincount = []\n",
    "\n",
    "    for i in range(Ngames):\n",
    "        #print(\"Game {}\".format(i))\n",
    "        #game.printBoard()\n",
    "        while True:\n",
    "            game.play()\n",
    "            #game.printBoard()\n",
    "            if(game.checkWinner() != 0):\n",
    "                break\n",
    "        wincount.append(game.checkWinner())\n",
    "        game.reset()\n",
    "        \n",
    "    return np.array(wincount)"
   ]
  },
  {
   "cell_type": "markdown",
   "metadata": {},
   "source": [
    "This trainer class trains a neural network with scipy's differential evolution implementation, using score in games against a random player as the cost function. It works, but I think it's possible to do better."
   ]
  },
  {
   "cell_type": "code",
   "execution_count": 6,
   "metadata": {},
   "outputs": [],
   "source": [
    "class NNDETrainer:\n",
    "    def __init__(self, size, nNeurons, initialWeights=None):\n",
    "        self.size = size\n",
    "        self.nNplayer = NNPlayer(nNeurons)\n",
    "        self.game = TTTGame(size, (self.nNplayer, RandomPlayer()))\n",
    "        self.nNplayer.initNN()\n",
    "        if initialWeights is not None:\n",
    "            self.nNplayer.importWeightVector(initialWeights)\n",
    "\n",
    "    #The cost function here is a weighed average of the results of many\n",
    "    #games against a random player\n",
    "    def cost(self, weights):\n",
    "        self.nNplayer.importWeightVector(weights)\n",
    "\n",
    "        N = 25\n",
    "        wincount = nGames(N, game)\n",
    "        wincount[wincount == 2] = 0\n",
    "        count = wincount.sum() / N\n",
    "        return -count\n",
    "\n",
    "    def trainDE(self):\n",
    "        bounds = np.array([(-1e6, 1e6)] * (self.nNplayer.hiddenLayerWeights.size \n",
    "                                       + self.nNplayer.hiddenLayerBias.size \n",
    "                                       + self.nNplayer.outputLayerWeights.size))\n",
    "        trainResults = differential_evolution(self.cost, bounds, tol = 0.5)\n",
    "        print(trainResults.message)\n",
    "        \n",
    "        if trainResults.success == True:\n",
    "            print(trainResults.nit)\n",
    "            print(trainResults.nfev)\n",
    "            return trainResults.x\n",
    "            \n",
    "        else:\n",
    "            print(\"Optimization failed somewhere\")"
   ]
  },
  {
   "cell_type": "markdown",
   "metadata": {},
   "source": [
    "With everything set up let's see how the AI fares against a random player:"
   ]
  },
  {
   "cell_type": "code",
   "execution_count": 7,
   "metadata": {},
   "outputs": [],
   "source": [
    "N = 5000\n",
    "nNeurons = 3\n",
    "nNPlayer = NNPlayer(nNeurons, lambda x: np.fmax(0, x))\n",
    "players = (nNPlayer, RandomPlayer())\n",
    "game = TTTGame(nNeurons, players)\n",
    "nNPlayer.initNN()\n",
    "#nNPlayer.importWeightVector(np.fromfile(\"trainedvec.csv\"))"
   ]
  },
  {
   "cell_type": "code",
   "execution_count": 8,
   "metadata": {},
   "outputs": [],
   "source": [
    "wincount = nGames(N, game)\n",
    "labels, count = np.unique(wincount, return_counts=True)"
   ]
  },
  {
   "cell_type": "code",
   "execution_count": 9,
   "metadata": {},
   "outputs": [
    {
     "data": {
      "image/png": "[encoded data removed]",
      "text/plain": [
       "<Figure size 432x288 with 1 Axes>"
      ]
     },
     "metadata": {},
     "output_type": "display_data"
    }
   ],
   "source": [
    "labels = [*map(lambda x: {-1:\"Player 0\", 1:\"Player 1\", 2:\"Tie\"}[x], labels)]\n",
    "count = count / N\n",
    "plt.pie(count, labels=labels, autopct='%.1f%%')\n",
    "plt.show()"
   ]
  },
  {
   "cell_type": "markdown",
   "metadata": {
    "collapsed": true
   },
   "source": [
    "It probably did anywhere from not bad to abysmal right now. Let's train it for a while and see if it does better."
   ]
  },
  {
   "cell_type": "code",
   "execution_count": 10,
   "metadata": {},
   "outputs": [
    {
     "name": "stdout",
     "output_type": "stream",
     "text": [
      "Optimization terminated successfully.\n",
      "1\n",
      "1704\n"
     ]
    }
   ],
   "source": [
    "trainer = NNDETrainer(game.size, nNeurons, nNPlayer.exportWeightVector())\n",
    "res = trainer.trainDE()"
   ]
  },
  {
   "cell_type": "code",
   "execution_count": 11,
   "metadata": {},
   "outputs": [],
   "source": [
    "nNPlayer.importWeightVector(res)\n",
    "\n",
    "wincount= nGames(N, game)\n",
    "labels, count = np.unique(wincount, return_counts=True)"
   ]
  },
  {
   "cell_type": "code",
   "execution_count": 12,
   "metadata": {},
   "outputs": [
    {
     "data": {
      "image/png": "[encoded data removed]",
      "text/plain": [
       "<Figure size 432x288 with 1 Axes>"
      ]
     },
     "metadata": {},
     "output_type": "display_data"
    }
   ],
   "source": [
    "labels = [*map(lambda x: {-1:\"Player 0\", 1:\"Player 1\", 2:\"Tie\"}[x], labels)]\n",
    "count = count / N\n",
    "plt.pie(count, labels=labels, autopct='%.1f%%')\n",
    "plt.show()"
   ]
  },
  {
   "cell_type": "markdown",
   "metadata": {},
   "source": [
    "This almost always better, but considering tic-tac-toe is a solved game, that's an awful lot of computation for little gain. Bummer!"
   ]
  },
  {
   "cell_type": "code",
   "execution_count": 13,
   "metadata": {},
   "outputs": [],
   "source": [
    "#trained_vec = np.hstack((nnp.hiddenLayerWeights.ravel(), nnp.hiddenLayerBias.ravel(), nnp.outputLayerWeights.ravel()))\n",
    "\n",
    "#trained_vec.tofile(\"trainedvec.csv\")"
   ]
  }
 ],
 "metadata": {
  "kernelspec": {
   "display_name": "Python 3",
   "language": "python",
   "name": "python3"
  },
  "language_info": {
   "codemirror_mode": {
    "name": "ipython",
    "version": 3
   },
   "file_extension": ".py",
   "mimetype": "text/x-python",
   "name": "python",
   "nbconvert_exporter": "python",
   "pygments_lexer": "ipython3",
   "version": "3.6.5"
  }
 },
 "nbformat": 4,
 "nbformat_minor": 2
}
